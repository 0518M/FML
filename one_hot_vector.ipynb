{
  "nbformat": 4,
  "nbformat_minor": 0,
  "metadata": {
    "colab": {
      "provenance": [],
      "authorship_tag": "ABX9TyPYfsEaBGEHCho5ZxevyG2O",
      "include_colab_link": true
    },
    "kernelspec": {
      "name": "python3",
      "display_name": "Python 3"
    },
    "language_info": {
      "name": "python"
    }
  },
  "cells": [
    {
      "cell_type": "markdown",
      "metadata": {
        "id": "view-in-github",
        "colab_type": "text"
      },
      "source": [
        "<a href=\"https://colab.research.google.com/github/0518M/FML/blob/main/one_hot_vector.ipynb\" target=\"_parent\"><img src=\"https://colab.research.google.com/assets/colab-badge.svg\" alt=\"Open In Colab\"/></a>"
      ]
    },
    {
      "cell_type": "code",
      "execution_count": 1,
      "metadata": {
        "id": "4E6uLAh5QgAi"
      },
      "outputs": [],
      "source": [
        "import numpy as np\n",
        "samples = {'Jupiter has 79 known moons .', 'Neptune has 14 confirmed moons !'} # Sample set for our example\n",
        "# Create an empty dictionary\n",
        "token_index = {}\n",
        "#Create a counter for counting the number of key-value pairs in the token_length\n",
        "counter = 0\n",
        ""
      ]
    },
    {
      "cell_type": "code",
      "source": [
        "for sample in samples:\n",
        "  for considered_word in sample.split():\n",
        "    if considered_word not in token_index:\n",
        "\n",
        "      # If the considered word is not present in the dictionary token_index, add it to the token_index\n",
        "      # The index of the word in the dictionary begins from 1\n",
        "      token_index.update({considered_word : counter + 1})\n",
        "\n",
        "      # updating the value of counter\n",
        "      counter = counter + 1\n",
        "\n",
        "print(token_index)"
      ],
      "metadata": {
        "colab": {
          "base_uri": "https://localhost:8080/"
        },
        "id": "iAwm36QLQnIX",
        "outputId": "7421c066-6b63-4866-be92-e37c53f81dac"
      },
      "execution_count": 2,
      "outputs": [
        {
          "output_type": "stream",
          "name": "stdout",
          "text": [
            "{'Jupiter': 1, 'has': 2, '79': 3, 'known': 4, 'moons': 5, '.': 6, 'Neptune': 7, '14': 8, 'confirmed': 9, '!': 10}\n"
          ]
        }
      ]
    },
    {
      "cell_type": "code",
      "source": [
        "# Set max_length to 6\n",
        "max_length = 6\n",
        "# Create a tensor of dimension 3 named results whose every elements are initialized to 0\n",
        "results  = np.zeros(shape = (len(samples),\n",
        "                            max_length,\n",
        "                            max(token_index.values()) + 1))"
      ],
      "metadata": {
        "id": "JwIdbYWlQqOl"
      },
      "execution_count": 3,
      "outputs": []
    },
    {
      "cell_type": "code",
      "source": [
        "# Now create a one-hot vector corresponding to the word\n",
        "# iterate over enumerate(samples) enumerate object\n",
        "for i, sample in enumerate(samples):\n",
        "\n",
        "# Convert enumerate object to list and iterate over resultant list\n",
        "  for j, considered_word in list(enumerate(sample.split())):\n",
        "\n",
        "    # set the value of index variable equal to the value of considered_word in token_index\n",
        "    index = token_index.get(considered_word)\n",
        "\n",
        "    # In the previous zero tensor: results, set the value of elements with their positional index as [i, j, index] = 1.\n",
        "    results[i, j, index] = 1.\n",
        "\n",
        "print(results)"
      ],
      "metadata": {
        "id": "-4QsO9y2QtZR",
        "outputId": "00ee1d56-bc5f-4bde-af43-3fd20bec6a6a",
        "colab": {
          "base_uri": "https://localhost:8080/"
        }
      },
      "execution_count": 4,
      "outputs": [
        {
          "output_type": "stream",
          "name": "stdout",
          "text": [
            "[[[0. 1. 0. 0. 0. 0. 0. 0. 0. 0. 0.]\n",
            "  [0. 0. 1. 0. 0. 0. 0. 0. 0. 0. 0.]\n",
            "  [0. 0. 0. 1. 0. 0. 0. 0. 0. 0. 0.]\n",
            "  [0. 0. 0. 0. 1. 0. 0. 0. 0. 0. 0.]\n",
            "  [0. 0. 0. 0. 0. 1. 0. 0. 0. 0. 0.]\n",
            "  [0. 0. 0. 0. 0. 0. 1. 0. 0. 0. 0.]]\n",
            "\n",
            " [[0. 0. 0. 0. 0. 0. 0. 1. 0. 0. 0.]\n",
            "  [0. 0. 1. 0. 0. 0. 0. 0. 0. 0. 0.]\n",
            "  [0. 0. 0. 0. 0. 0. 0. 0. 1. 0. 0.]\n",
            "  [0. 0. 0. 0. 0. 0. 0. 0. 0. 1. 0.]\n",
            "  [0. 0. 0. 0. 0. 1. 0. 0. 0. 0. 0.]\n",
            "  [0. 0. 0. 0. 0. 0. 0. 0. 0. 0. 1.]]]\n"
          ]
        }
      ]
    }
  ]
}