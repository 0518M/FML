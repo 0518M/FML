{
  "nbformat": 4,
  "nbformat_minor": 0,
  "metadata": {
    "colab": {
      "provenance": [],
      "authorship_tag": "ABX9TyNLO5OMey2SijaOJ8lFBoSq",
      "include_colab_link": true
    },
    "kernelspec": {
      "name": "python3",
      "display_name": "Python 3"
    },
    "language_info": {
      "name": "python"
    }
  },
  "cells": [
    {
      "cell_type": "markdown",
      "metadata": {
        "id": "view-in-github",
        "colab_type": "text"
      },
      "source": [
        "<a href=\"https://colab.research.google.com/github/0518M/FML/blob/main/bag_of_words.ipynb\" target=\"_parent\"><img src=\"https://colab.research.google.com/assets/colab-badge.svg\" alt=\"Open In Colab\"/></a>"
      ]
    },
    {
      "cell_type": "code",
      "execution_count": 1,
      "metadata": {
        "id": "fdxIZszgQ7Tv"
      },
      "outputs": [],
      "source": [
        "import pandas as pd\n",
        "import numpy as np"
      ]
    },
    {
      "cell_type": "code",
      "source": [
        "doc1 = 'Game of Thrones is an amazing tv series!'\n",
        "doc2 = 'Game of Thrones is the best tv series!'\n",
        "doc3 = 'Game of Thrones is so great'"
      ],
      "metadata": {
        "id": "vSgBMnMtQ-AZ"
      },
      "execution_count": 2,
      "outputs": []
    },
    {
      "cell_type": "code",
      "source": [
        "from sklearn.feature_extraction.text import CountVectorizer\n",
        "vectorizer = CountVectorizer()\n",
        "X = vectorizer.fit_transform([doc1,doc2,doc3])\n",
        "#print(X)\n",
        "print(vectorizer.get_feature_names_out())"
      ],
      "metadata": {
        "colab": {
          "base_uri": "https://localhost:8080/"
        },
        "id": "9Z0WNg2fRBF1",
        "outputId": "76e33c25-9fb6-46fe-99ac-6bf5f260c9e5"
      },
      "execution_count": 3,
      "outputs": [
        {
          "output_type": "stream",
          "name": "stdout",
          "text": [
            "['amazing' 'an' 'best' 'game' 'great' 'is' 'of' 'series' 'so' 'the'\n",
            " 'thrones' 'tv']\n"
          ]
        }
      ]
    },
    {
      "cell_type": "code",
      "source": [
        "df_bow_sklearn = pd.DataFrame(X.toarray(),columns=vectorizer.get_feature_names_out())\n",
        "print(df_bow_sklearn.head())"
      ],
      "metadata": {
        "id": "MJbyyniEREZQ",
        "outputId": "c8e80333-5f20-47fc-c2f2-d674d2cad4ef",
        "colab": {
          "base_uri": "https://localhost:8080/"
        }
      },
      "execution_count": 4,
      "outputs": [
        {
          "output_type": "stream",
          "name": "stdout",
          "text": [
            "   amazing  an  best  game  great  is  of  series  so  the  thrones  tv\n",
            "0        1   1     0     1      0   1   1       1   0    0        1   1\n",
            "1        0   0     1     1      0   1   1       1   0    1        1   1\n",
            "2        0   0     0     1      1   1   1       0   1    0        1   0\n"
          ]
        }
      ]
    }
  ]
}